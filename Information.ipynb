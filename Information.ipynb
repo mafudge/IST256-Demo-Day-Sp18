{
 "cells": [
  {
   "cell_type": "code",
   "execution_count": null,
   "metadata": {
    "collapsed": false
   },
   "outputs": [],
   "source": [
    "!pip -qqq install pandas \n",
    "import pandas as pd\n",
    "from IPython.display import display,HTML, Image, Markdown\n",
    "datafile = \"data/Demo-Day-2018.xlsx\"\n",
    "notesfile = \"data/notes.md\"\n",
    "with open(notesfile,'r') as inf:\n",
    "    notes = inf.read()\n",
    "students = pd.read_excel(datafile,\"Users\")\n",
    "groups = pd.read_excel(datafile,\"Groups\")\n",
    "groups['Blackboard Group Number'] = groups['group_code'].str.replace('Project_gc_Groups_gc_','')\n",
    "dataset = pd.merge(students, groups, how='inner', on= 'group_code')\n",
    "display(HTML('<h1>Demo Day Information</h1>'))\n",
    "netid = input(\"Enter your NetID: \").lower()\n",
    "results = dataset[ dataset['Student Name']==netid][['Blackboard Group Number', 'Evaluating Professor', 'Where To Setup']]\n",
    "display(results)\n",
    "display(Markdown(notes))\n",
    "display(Image(url = 'images/map.png' ))\n"
   ]
  },
  {
   "cell_type": "code",
   "execution_count": null,
   "metadata": {
    "collapsed": true
   },
   "outputs": [],
   "source": []
  }
 ],
 "metadata": {
  "anaconda-cloud": {},
  "kernelspec": {
   "display_name": "Python [default]",
   "language": "python",
   "name": "python3"
  },
  "language_info": {
   "codemirror_mode": {
    "name": "ipython",
    "version": 3
   },
   "file_extension": ".py",
   "mimetype": "text/x-python",
   "name": "python",
   "nbconvert_exporter": "python",
   "pygments_lexer": "ipython3",
   "version": "3.5.2"
  }
 },
 "nbformat": 4,
 "nbformat_minor": 1
}
